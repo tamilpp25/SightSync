{
 "cells": [
  {
   "cell_type": "code",
   "execution_count": 2,
   "metadata": {},
   "outputs": [
    {
     "name": "stderr",
     "output_type": "stream",
     "text": [
      "Neither CUDA nor MPS are available - defaulting to CPU. Note: This module is much faster with a GPU.\n",
      "Downloading recognition model, please wait. This may take several minutes depending upon your network connection.\n"
     ]
    },
    {
     "name": "stdout",
     "output_type": "stream",
     "text": [
      "Progress: |██████████████████████████████████████████████████| 100.0% Complete"
     ]
    }
   ],
   "source": [
    "import easyocr\n",
    "reader = easyocr.Reader(['en']) # this needs to run only once to load the model into memory\n",
    "result = reader.readtext('wooden_street.jpg')"
   ]
  },
  {
   "cell_type": "code",
   "execution_count": 3,
   "metadata": {},
   "outputs": [
    {
     "name": "stdout",
     "output_type": "stream",
     "text": [
      "[([[126, 66], [822, 66], [822, 219], [126, 219]], 'Wooden Street', 0.9934558735752703), ([[284, 184], [680, 184], [680, 241], [284, 241]], 'CUSTOM FURNITURE STORE', 0.9191827858649181)]\n"
     ]
    }
   ],
   "source": [
    "print(result)"
   ]
  },
  {
   "cell_type": "code",
   "execution_count": 9,
   "metadata": {},
   "outputs": [
    {
     "name": "stderr",
     "output_type": "stream",
     "text": [
      "Neither CUDA nor MPS are available - defaulting to CPU. Note: This module is much faster with a GPU.\n"
     ]
    }
   ],
   "source": [
    "import easyocr\n",
    "import cv2\n",
    "\n",
    "# Initialize the OCR reader\n",
    "reader = easyocr.Reader(['en'])\n",
    "\n",
    "# Read the image and detect text\n",
    "result = reader.readtext('wooden_street.jpg')\n",
    "\n",
    "# Load the image\n",
    "image = cv2.imread('wooden_street.jpg')\n",
    "\n",
    "# Iterate over the detected text regions\n",
    "for detection in result:\n",
    "    # Extract bounding box coordinates and text label\n",
    "    bbox = detection[0]\n",
    "    text = detection[1]\n",
    "\n",
    "    # Draw bounding box rectangle on the image\n",
    "    cv2.rectangle(image, bbox[0], bbox[2], (0, 255, 0), 2)\n",
    "\n",
    "    # Write text label on the image\n",
    "    cv2.putText(image, text, (bbox[0][0], bbox[0][1] - 10), cv2.FONT_HERSHEY_SIMPLEX, 0.5, (0, 255, 0), 2)\n",
    "\n",
    "# Display the image with text labels\n",
    "cv2.imshow('Detected Text', image)\n",
    "cv2.waitKey(0)\n",
    "cv2.destroyAllWindows()\n"
   ]
  },
  {
   "cell_type": "code",
   "execution_count": 8,
   "metadata": {},
   "outputs": [
    {
     "name": "stderr",
     "output_type": "stream",
     "text": [
      "Neither CUDA nor MPS are available - defaulting to CPU. Note: This module is much faster with a GPU.\n"
     ]
    }
   ],
   "source": [
    "import easyocr\n",
    "import cv2\n",
    "import time\n",
    "\n",
    "# Initialize the OCR reader\n",
    "reader = easyocr.Reader(['en'])\n",
    "\n",
    "# Initialize variables for calculating FPS\n",
    "fps_start_time = time.time()\n",
    "fps_frames_count = 0\n",
    "\n",
    "# Open the webcam\n",
    "cap = cv2.VideoCapture(0)\n",
    "\n",
    "# Set interval between capturing frames (in seconds)\n",
    "capture_interval = 5  # Change this value as needed\n",
    "\n",
    "while True:\n",
    "    # Start timer for FPS calculation\n",
    "    start_time = time.time()\n",
    "\n",
    "    # Read a frame from the webcam\n",
    "    success, frame = cap.read()\n",
    "\n",
    "    # Increment frame count for FPS calculation\n",
    "    fps_frames_count += 1\n",
    "\n",
    "    # Read text from the frame\n",
    "    result = reader.readtext(frame)\n",
    "\n",
    "    # Iterate over the detected text regions\n",
    "    for detection in result:\n",
    "        # Extract bounding box coordinates and text label\n",
    "        bbox = detection[0]\n",
    "        text = detection[1]\n",
    "\n",
    "        # Draw bounding box rectangle on the frame\n",
    "        cv2.rectangle(frame, bbox[0], bbox[2], (0, 255, 0), 2)\n",
    "\n",
    "        # Write text label on the frame\n",
    "        cv2.putText(frame, text, (bbox[0][0], bbox[0][1] - 10), cv2.FONT_HERSHEY_SIMPLEX, 0.5, (0, 255, 0), 2)\n",
    "\n",
    "    # Calculate FPS\n",
    "    fps_current_time = time.time()\n",
    "    fps_elapsed_time = fps_current_time - fps_start_time\n",
    "    if fps_elapsed_time > 1:\n",
    "        fps = fps_frames_count / fps_elapsed_time\n",
    "        fps_start_time = fps_current_time\n",
    "        fps_frames_count = 0\n",
    "\n",
    "    # Display FPS at the top right corner of the frame\n",
    "    cv2.putText(frame, f'FPS: {int(fps)}', (10, 40), cv2.FONT_HERSHEY_SIMPLEX, 1, (0, 255, 0), 2, cv2.LINE_AA)\n",
    "\n",
    "    # Display the frame\n",
    "    cv2.imshow('Real-Time Text Detection', frame)\n",
    "\n",
    "    # Stop timer and calculate elapsed time\n",
    "    end_time = time.time()\n",
    "    elapsed_time = end_time - start_time\n",
    "\n",
    "    # Wait until the next capture interval\n",
    "    if elapsed_time < capture_interval:\n",
    "        time.sleep(capture_interval - elapsed_time)\n",
    "\n",
    "    # Check for 'q' key press to exit\n",
    "    if cv2.waitKey(1) & 0xFF == ord('q'):\n",
    "        break\n",
    "\n",
    "# Release the webcam and close all OpenCV windows\n",
    "cap.release()\n",
    "cv2.destroyAllWindows()\n"
   ]
  },
  {
   "cell_type": "code",
   "execution_count": null,
   "metadata": {},
   "outputs": [],
   "source": []
  }
 ],
 "metadata": {
  "kernelspec": {
   "display_name": "Python 3",
   "language": "python",
   "name": "python3"
  },
  "language_info": {
   "codemirror_mode": {
    "name": "ipython",
    "version": 3
   },
   "file_extension": ".py",
   "mimetype": "text/x-python",
   "name": "python",
   "nbconvert_exporter": "python",
   "pygments_lexer": "ipython3",
   "version": "3.9.5"
  }
 },
 "nbformat": 4,
 "nbformat_minor": 2
}
